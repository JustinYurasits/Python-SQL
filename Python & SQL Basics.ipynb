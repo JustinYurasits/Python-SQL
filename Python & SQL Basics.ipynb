{
 "cells": [
  {
   "cell_type": "markdown",
   "id": "34aa8c03",
   "metadata": {},
   "source": [
    "## Intro to SQL and Python\n",
    "\n",
    "This notebook will introduce the basics of SQL with Python.  Links and key references are provided.  In depth explanations founds elswhere are pointed to and left elsewhere. "
   ]
  },
  {
   "cell_type": "markdown",
   "id": "26bdfb51",
   "metadata": {},
   "source": [
    "### 1.1 Getting Started\n",
    "This will import sqlite3, a lightweight implementation of SQL database engine that easily works with Python. "
   ]
  },
  {
   "cell_type": "code",
   "execution_count": 1,
   "id": "6fb5f070",
   "metadata": {},
   "outputs": [],
   "source": [
    "## import the package\n",
    "import sqlite3"
   ]
  },
  {
   "cell_type": "markdown",
   "id": "3fd43f71",
   "metadata": {},
   "source": [
    "Establish a connection.  This is to a database that's stored either on disk (will require a path), or in memory.   If the DB doesn't exist, this command will create the file."
   ]
  },
  {
   "cell_type": "code",
   "execution_count": 2,
   "id": "83180738",
   "metadata": {},
   "outputs": [],
   "source": [
    "## this would establish the database in memory\n",
    "conn = sqlite3.connect(':memory:')\n",
    "\n",
    "## this establishes the database connection to a file\n",
    "#conn = sqlite3.connect('test.db')"
   ]
  },
  {
   "cell_type": "markdown",
   "id": "f0a446bb",
   "metadata": {},
   "source": [
    "Establish a cursor.  The cursor instance instructs the database on what you want it to do. "
   ]
  },
  {
   "cell_type": "code",
   "execution_count": 3,
   "id": "e1e41cd4",
   "metadata": {},
   "outputs": [
    {
     "data": {
      "text/plain": [
       "<sqlite3.Cursor at 0x2433a5de570>"
      ]
     },
     "execution_count": 3,
     "metadata": {},
     "output_type": "execute_result"
    }
   ],
   "source": [
    "c = conn.cursor()\n",
    "c.execute('DROP TABLE IF EXISTS customers')"
   ]
  },
  {
   "cell_type": "markdown",
   "id": "5b314ca4",
   "metadata": {},
   "source": [
    "### 1.2 Create Basic Tables & Queries\n",
    "\n",
    "Start by creating a table.  We will create a table of customers that captures their first name, last name and email. "
   ]
  },
  {
   "cell_type": "code",
   "execution_count": 4,
   "id": "b1daa29c",
   "metadata": {},
   "outputs": [
    {
     "data": {
      "text/plain": [
       "<sqlite3.Cursor at 0x2433a5de570>"
      ]
     },
     "execution_count": 4,
     "metadata": {},
     "output_type": "execute_result"
    }
   ],
   "source": [
    "c.execute('''CREATE TABLE customers(\n",
    "    first_name TEXT, \n",
    "    last_name TEXT,\n",
    "    email TEXT\n",
    "        )''')"
   ]
  },
  {
   "cell_type": "markdown",
   "id": "5a2d37a4",
   "metadata": {},
   "source": [
    "Insert a single row entry into the database:"
   ]
  },
  {
   "cell_type": "code",
   "execution_count": 5,
   "id": "929d03a3",
   "metadata": {},
   "outputs": [
    {
     "data": {
      "text/plain": [
       "<sqlite3.Cursor at 0x2433a5de570>"
      ]
     },
     "execution_count": 5,
     "metadata": {},
     "output_type": "execute_result"
    }
   ],
   "source": [
    "c.execute(\"INSERT INTO customers VALUES ('Justin', 'Joseph', 'jjy@jjy.com')\")"
   ]
  },
  {
   "cell_type": "markdown",
   "id": "88a6f7c0",
   "metadata": {},
   "source": [
    "Use a list to create a bulk entry into the database.  Notice the use of *executemany* in this case:"
   ]
  },
  {
   "cell_type": "code",
   "execution_count": 6,
   "id": "0b4d6b9a",
   "metadata": {},
   "outputs": [
    {
     "data": {
      "text/plain": [
       "<sqlite3.Cursor at 0x2433a5de570>"
      ]
     },
     "execution_count": 6,
     "metadata": {},
     "output_type": "execute_result"
    }
   ],
   "source": [
    "many_customers = [\n",
    "                    ('Steve', 'Smith', 'steve@123.com'),\n",
    "                    ('Luke', 'Duke', 'luke@luke.com'), \n",
    "                    ('Jerry', 'Springer', 'jerry@jsp.com'), \n",
    "                    ('Joslyn', 'Reed', 'jos@jcassi.com')\n",
    "                    ]\n",
    "\n",
    "c.executemany('INSERT INTO customers VALUES (?,?,?)', many_customers)"
   ]
  },
  {
   "cell_type": "markdown",
   "id": "5102e55a",
   "metadata": {},
   "source": [
    "#### Execute a Basic Query\n",
    "\n",
    "Query the database.  There are multiple way to do this:\n",
    "\n",
    "1. c.execute(\"SELECT * FROM customers) instructs sql to return everything from the customer table. \n",
    "\n",
    "\n",
    "2. a fetch statement is required.  It can be:\n",
    "\n",
    "- c.fecthone() returns a single entry\n",
    "- c.fetchmany(n) returns n entries\n",
    "- c.fetchall() returs all of the entires\n",
    "\n",
    "3.  Print it to the console\n",
    "\n",
    "You can get more specific about what is returned by using slice notation. For example, this will give the 4th entry in the db([3]), and the first element within the entry([0])"
   ]
  },
  {
   "cell_type": "code",
   "execution_count": 9,
   "id": "12471179",
   "metadata": {},
   "outputs": [
    {
     "name": "stdout",
     "output_type": "stream",
     "text": [
      "[('Justin', 'Joseph', 'jjy@jjy.com'), ('Steve', 'Smith', 'steve@123.com'), ('Luke', 'Duke', 'luke@luke.com'), ('Jerry', 'Springer', 'jerry@jsp.com'), ('Joslyn', 'Reed', 'jos@jcassi.com')]\n"
     ]
    }
   ],
   "source": [
    "c.execute(\"SELECT * FROM customers\")\n",
    "items = c.fetchall()\n",
    "print(items)\n"
   ]
  },
  {
   "cell_type": "markdown",
   "id": "e7119025",
   "metadata": {},
   "source": [
    "Since c.fetchall() returns a list of tuples from the table data, this is iterable and a bit easier to read. "
   ]
  },
  {
   "cell_type": "code",
   "execution_count": 10,
   "id": "68497936",
   "metadata": {},
   "outputs": [
    {
     "name": "stdout",
     "output_type": "stream",
     "text": [
      "('Justin', 'Joseph', 'jjy@jjy.com')\n",
      "('Steve', 'Smith', 'steve@123.com')\n",
      "('Luke', 'Duke', 'luke@luke.com')\n",
      "('Jerry', 'Springer', 'jerry@jsp.com')\n",
      "('Joslyn', 'Reed', 'jos@jcassi.com')\n"
     ]
    }
   ],
   "source": [
    "for i in items:\n",
    "    print(i)"
   ]
  },
  {
   "cell_type": "code",
   "execution_count": null,
   "id": "3004fa00",
   "metadata": {},
   "outputs": [],
   "source": []
  }
 ],
 "metadata": {
  "kernelspec": {
   "display_name": "Python 3",
   "language": "python",
   "name": "python3"
  },
  "language_info": {
   "codemirror_mode": {
    "name": "ipython",
    "version": 3
   },
   "file_extension": ".py",
   "mimetype": "text/x-python",
   "name": "python",
   "nbconvert_exporter": "python",
   "pygments_lexer": "ipython3",
   "version": "3.8.8"
  }
 },
 "nbformat": 4,
 "nbformat_minor": 5
}
